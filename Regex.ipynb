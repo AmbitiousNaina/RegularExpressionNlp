{
  "nbformat": 4,
  "nbformat_minor": 0,
  "metadata": {
    "colab": {
      "provenance": []
    },
    "kernelspec": {
      "name": "python3",
      "display_name": "Python 3"
    },
    "language_info": {
      "name": "python"
    }
  },
  "cells": [
    {
      "cell_type": "code",
      "execution_count": null,
      "metadata": {
        "id": "SRggeLqJq_mV"
      },
      "outputs": [],
      "source": [
        "import re"
      ]
    },
    {
      "cell_type": "code",
      "source": [
        "text = \"We are learning NLP\"\n",
        "match = re.search(\"We\", text)\n",
        "print(match)"
      ],
      "metadata": {
        "colab": {
          "base_uri": "https://localhost:8080/"
        },
        "id": "MMuC4ckurBAL",
        "outputId": "1d869063-b2b2-47d4-e055-fa86ad0c8c30"
      },
      "execution_count": null,
      "outputs": [
        {
          "output_type": "stream",
          "name": "stdout",
          "text": [
            "<re.Match object; span=(0, 2), match='We'>\n"
          ]
        }
      ]
    },
    {
      "cell_type": "code",
      "source": [
        "print(\"start_index\",match.start())\n",
        "print(\"end_index\",match.end())"
      ],
      "metadata": {
        "colab": {
          "base_uri": "https://localhost:8080/"
        },
        "id": "XsVXER-qrhrQ",
        "outputId": "fe58389e-82ac-44ea-aff2-aa35fbae1d4f"
      },
      "execution_count": null,
      "outputs": [
        {
          "output_type": "stream",
          "name": "stdout",
          "text": [
            "start_index 0\n",
            "end_index 2\n"
          ]
        }
      ]
    },
    {
      "cell_type": "code",
      "source": [
        "text = \"\"\"Hello, my phone number is 123-456-7890.\n",
        "You can also reach me at hello_world@domain.com.\n",
        "Visit my website: http://www.example.com or send me a message!\n",
        "Let's meet at 5:00 PM tomorrow. I love cats, dogs, and other pets.\n",
        "\"\"\""
      ],
      "metadata": {
        "id": "DU5CC7s_r3jS"
      },
      "execution_count": null,
      "outputs": []
    },
    {
      "cell_type": "code",
      "source": [
        "print(\"Matches any character using . \")\n",
        "print(re.findall(r\"e.a\",text))"
      ],
      "metadata": {
        "colab": {
          "base_uri": "https://localhost:8080/"
        },
        "id": "FfAfvoTxs3Wq",
        "outputId": "24c02bee-e6ee-42eb-e539-8d04edfffd21"
      },
      "execution_count": null,
      "outputs": [
        {
          "output_type": "stream",
          "name": "stdout",
          "text": [
            "Matches any character using . \n",
            "['e a', 'exa', 'e a']\n"
          ]
        }
      ]
    },
    {
      "cell_type": "code",
      "source": [
        "print(\"Matches any character using . \")\n",
        "print(re.findall(r\"e*a\",text))"
      ],
      "metadata": {
        "colab": {
          "base_uri": "https://localhost:8080/"
        },
        "id": "OqUOdg72tLD4",
        "outputId": "63bf6187-d66a-4885-cf0d-9b631b68fe74"
      },
      "execution_count": null,
      "outputs": [
        {
          "output_type": "stream",
          "name": "stdout",
          "text": [
            "Matches any character using . \n",
            "['a', 'a', 'ea', 'a', 'a', 'a', 'a', 'a', 'a', 'a', 'a']\n"
          ]
        }
      ]
    },
    {
      "cell_type": "code",
      "source": [
        "print(\"Matches any character using . \")\n",
        "print(re.findall(r\"e+a\",text))"
      ],
      "metadata": {
        "colab": {
          "base_uri": "https://localhost:8080/"
        },
        "id": "VWMoxuGnuxTN",
        "outputId": "bd87299f-7f7f-442d-a730-cd6bb06e6271"
      },
      "execution_count": null,
      "outputs": [
        {
          "output_type": "stream",
          "name": "stdout",
          "text": [
            "Matches any character using . \n",
            "['ea']\n"
          ]
        }
      ]
    },
    {
      "cell_type": "code",
      "source": [
        "# ^ matches the start of the string with carret\n",
        "print(\"matches the start of the string with carret\")\n",
        "print(re.findall(r\"You\", text))"
      ],
      "metadata": {
        "colab": {
          "base_uri": "https://localhost:8080/"
        },
        "id": "gO0fnaU1vXAq",
        "outputId": "8793dbc4-d01f-4b9a-c863-2e6ea33352d8"
      },
      "execution_count": null,
      "outputs": [
        {
          "output_type": "stream",
          "name": "stdout",
          "text": [
            "matches the start of the string with carret\n",
            "['You']\n"
          ]
        }
      ]
    },
    {
      "cell_type": "code",
      "source": [
        "print(re.findall(r\"You\", text, re.MULTILINE))"
      ],
      "metadata": {
        "colab": {
          "base_uri": "https://localhost:8080/"
        },
        "id": "oynvYC0Gv-6m",
        "outputId": "0c7020aa-bfe5-434e-8c8f-cac67f9b3f9f"
      },
      "execution_count": null,
      "outputs": [
        {
          "output_type": "stream",
          "name": "stdout",
          "text": [
            "['You']\n"
          ]
        }
      ]
    },
    {
      "cell_type": "code",
      "source": [
        "print(re.findall(r\"Hello\", text))"
      ],
      "metadata": {
        "colab": {
          "base_uri": "https://localhost:8080/"
        },
        "id": "VJcY5-XwwSMz",
        "outputId": "ffb19ddc-864e-4b79-e451-8bd90f253f2d"
      },
      "execution_count": null,
      "outputs": [
        {
          "output_type": "stream",
          "name": "stdout",
          "text": [
            "['Hello']\n"
          ]
        }
      ]
    },
    {
      "cell_type": "code",
      "source": [
        "print(\"Matches end of the string $\")\n",
        "print(re.findall(r\"pets.$\",text))"
      ],
      "metadata": {
        "colab": {
          "base_uri": "https://localhost:8080/"
        },
        "id": "FLrJqpVMwnSM",
        "outputId": "cb07a918-e1d5-4af8-a795-61f302bbc8b1"
      },
      "execution_count": null,
      "outputs": [
        {
          "output_type": "stream",
          "name": "stdout",
          "text": [
            "Matches end of the string $\n",
            "['pets.']\n"
          ]
        }
      ]
    },
    {
      "cell_type": "code",
      "source": [
        "print(\"Matches end of the string $\")\n",
        "print(re.findall(r\"message!$\",text,re.MULTILINE))"
      ],
      "metadata": {
        "colab": {
          "base_uri": "https://localhost:8080/"
        },
        "id": "F51x1GbxxQf9",
        "outputId": "711f42eb-1310-4e9d-e66c-13288bcd12a6"
      },
      "execution_count": null,
      "outputs": [
        {
          "output_type": "stream",
          "name": "stdout",
          "text": [
            "Matches end of the string $\n",
            "['message!']\n"
          ]
        }
      ]
    },
    {
      "cell_type": "code",
      "source": [
        "# eg of *\n",
        "print(\"0 or more occurance of the preceding pattern\")\n",
        "print(re.findall(r\"cat*\",text))"
      ],
      "metadata": {
        "colab": {
          "base_uri": "https://localhost:8080/"
        },
        "id": "vw1QreSlxgpV",
        "outputId": "64b7447d-8b99-46bd-a2ee-c83f0bcc4393"
      },
      "execution_count": null,
      "outputs": [
        {
          "output_type": "stream",
          "name": "stdout",
          "text": [
            "0 or more occurance of the preceding pattern\n",
            "['ca', 'cat']\n"
          ]
        }
      ]
    },
    {
      "cell_type": "code",
      "source": [
        "# eg of *\n",
        "print(\"0 or more occurance of the preceding pattern\")\n",
        "print(re.findall(r\"cat+\",text))"
      ],
      "metadata": {
        "colab": {
          "base_uri": "https://localhost:8080/"
        },
        "id": "fukYTdRGx_i3",
        "outputId": "d4f4ad23-8d56-4476-f41c-ac4b02963ce3"
      },
      "execution_count": null,
      "outputs": [
        {
          "output_type": "stream",
          "name": "stdout",
          "text": [
            "0 or more occurance of the preceding pattern\n",
            "['cat']\n"
          ]
        }
      ]
    },
    {
      "cell_type": "code",
      "source": [
        "print(\"0 or more occurance of the preceding pattern\")\n",
        "print(re.findall(r\"ea*\",text))"
      ],
      "metadata": {
        "colab": {
          "base_uri": "https://localhost:8080/"
        },
        "id": "BRqloOrkyguG",
        "outputId": "43a50203-a46c-4c62-93eb-3028e886628e"
      },
      "execution_count": null,
      "outputs": [
        {
          "output_type": "stream",
          "name": "stdout",
          "text": [
            "0 or more occurance of the preceding pattern\n",
            "['e', 'e', 'e', 'ea', 'e', 'e', 'e', 'e', 'e', 'e', 'e', 'e', 'e', 'e', 'e', 'e', 'e', 'e', 'e', 'e']\n"
          ]
        }
      ]
    },
    {
      "cell_type": "code",
      "source": [
        "print(\"0 or more occurance of the preceding pattern\")\n",
        "print(re.findall(r\"ea+\",text))"
      ],
      "metadata": {
        "colab": {
          "base_uri": "https://localhost:8080/"
        },
        "id": "ZWehH7IQy0qd",
        "outputId": "d19880a2-359a-418d-8c63-8096d5e7295d"
      },
      "execution_count": null,
      "outputs": [
        {
          "output_type": "stream",
          "name": "stdout",
          "text": [
            "0 or more occurance of the preceding pattern\n",
            "['ea']\n"
          ]
        }
      ]
    },
    {
      "cell_type": "code",
      "source": [
        "# example of \\d\n",
        "print(\"matches digits\")\n",
        "print(re.findall(r\"\\d\",text))"
      ],
      "metadata": {
        "colab": {
          "base_uri": "https://localhost:8080/"
        },
        "id": "-Ei-fYV3zDVz",
        "outputId": "7f0dd38a-5e3b-4ebe-fa35-2f0361cc0a38"
      },
      "execution_count": null,
      "outputs": [
        {
          "output_type": "stream",
          "name": "stdout",
          "text": [
            "matches digits\n",
            "['1', '2', '3', '4', '5', '6', '7', '8', '9', '0', '5', '0', '0']\n"
          ]
        }
      ]
    },
    {
      "cell_type": "code",
      "source": [
        "# example of \\D\n",
        "print(\"matches non-digits\")\n",
        "print(re.findall(r\"\\D\",text))"
      ],
      "metadata": {
        "colab": {
          "base_uri": "https://localhost:8080/"
        },
        "id": "VirpQdoYzhrj",
        "outputId": "7c29de9d-662a-4e22-ff97-05ad06f6507c"
      },
      "execution_count": null,
      "outputs": [
        {
          "output_type": "stream",
          "name": "stdout",
          "text": [
            "matches non-digits\n",
            "['H', 'e', 'l', 'l', 'o', ',', ' ', 'm', 'y', ' ', 'p', 'h', 'o', 'n', 'e', ' ', 'n', 'u', 'm', 'b', 'e', 'r', ' ', 'i', 's', ' ', '-', '-', '.', '\\n', 'Y', 'o', 'u', ' ', 'c', 'a', 'n', ' ', 'a', 'l', 's', 'o', ' ', 'r', 'e', 'a', 'c', 'h', ' ', 'm', 'e', ' ', 'a', 't', ' ', 'h', 'e', 'l', 'l', 'o', '_', 'w', 'o', 'r', 'l', 'd', '@', 'd', 'o', 'm', 'a', 'i', 'n', '.', 'c', 'o', 'm', '.', '\\n', 'V', 'i', 's', 'i', 't', ' ', 'm', 'y', ' ', 'w', 'e', 'b', 's', 'i', 't', 'e', ':', ' ', 'h', 't', 't', 'p', ':', '/', '/', 'w', 'w', 'w', '.', 'e', 'x', 'a', 'm', 'p', 'l', 'e', '.', 'c', 'o', 'm', ' ', 'o', 'r', ' ', 's', 'e', 'n', 'd', ' ', 'm', 'e', ' ', 'a', ' ', 'm', 'e', 's', 's', 'a', 'g', 'e', '!', '\\n', 'L', 'e', 't', \"'\", 's', ' ', 'm', 'e', 'e', 't', ' ', 'a', 't', ' ', ':', ' ', 'P', 'M', ' ', 't', 'o', 'm', 'o', 'r', 'r', 'o', 'w', '.', ' ', 'I', ' ', 'l', 'o', 'v', 'e', ' ', 'c', 'a', 't', 's', ',', ' ', 'd', 'o', 'g', 's', ',', ' ', 'a', 'n', 'd', ' ', 'o', 't', 'h', 'e', 'r', ' ', 'p', 'e', 't', 's', '.', '\\n']\n"
          ]
        }
      ]
    },
    {
      "cell_type": "code",
      "source": [
        "# example of \\w\n",
        "print(\"matches non-digits\")\n",
        "print(re.findall(r\"\\w\",text))"
      ],
      "metadata": {
        "colab": {
          "base_uri": "https://localhost:8080/"
        },
        "id": "81NPWeGZ0B_T",
        "outputId": "68bc8961-14fb-457e-a0dd-cf57a325fee8"
      },
      "execution_count": null,
      "outputs": [
        {
          "output_type": "stream",
          "name": "stdout",
          "text": [
            "matches non-digits\n",
            "['H', 'e', 'l', 'l', 'o', 'm', 'y', 'p', 'h', 'o', 'n', 'e', 'n', 'u', 'm', 'b', 'e', 'r', 'i', 's', '1', '2', '3', '4', '5', '6', '7', '8', '9', '0', 'Y', 'o', 'u', 'c', 'a', 'n', 'a', 'l', 's', 'o', 'r', 'e', 'a', 'c', 'h', 'm', 'e', 'a', 't', 'h', 'e', 'l', 'l', 'o', '_', 'w', 'o', 'r', 'l', 'd', 'd', 'o', 'm', 'a', 'i', 'n', 'c', 'o', 'm', 'V', 'i', 's', 'i', 't', 'm', 'y', 'w', 'e', 'b', 's', 'i', 't', 'e', 'h', 't', 't', 'p', 'w', 'w', 'w', 'e', 'x', 'a', 'm', 'p', 'l', 'e', 'c', 'o', 'm', 'o', 'r', 's', 'e', 'n', 'd', 'm', 'e', 'a', 'm', 'e', 's', 's', 'a', 'g', 'e', 'L', 'e', 't', 's', 'm', 'e', 'e', 't', 'a', 't', '5', '0', '0', 'P', 'M', 't', 'o', 'm', 'o', 'r', 'r', 'o', 'w', 'I', 'l', 'o', 'v', 'e', 'c', 'a', 't', 's', 'd', 'o', 'g', 's', 'a', 'n', 'd', 'o', 't', 'h', 'e', 'r', 'p', 'e', 't', 's']\n"
          ]
        }
      ]
    },
    {
      "cell_type": "code",
      "source": [
        "# example of \\w\n",
        "print(\"matches non-digits\")\n",
        "print(re.findall(r\"\\w+\",text))"
      ],
      "metadata": {
        "colab": {
          "base_uri": "https://localhost:8080/"
        },
        "id": "PGJZpdee05OQ",
        "outputId": "6da63cac-8d2b-4f3d-defa-cb756d395309"
      },
      "execution_count": null,
      "outputs": [
        {
          "output_type": "stream",
          "name": "stdout",
          "text": [
            "matches non-digits\n",
            "['Hello', 'my', 'phone', 'number', 'is', '123', '456', '7890', 'You', 'can', 'also', 'reach', 'me', 'at', 'hello_world', 'domain', 'com', 'Visit', 'my', 'website', 'http', 'www', 'example', 'com', 'or', 'send', 'me', 'a', 'message', 'Let', 's', 'meet', 'at', '5', '00', 'PM', 'tomorrow', 'I', 'love', 'cats', 'dogs', 'and', 'other', 'pets']\n"
          ]
        }
      ]
    },
    {
      "cell_type": "code",
      "source": [
        "# example of \\w\n",
        "print(\"matches non-digits\")\n",
        "print(re.findall(r\"\\w*\",text))"
      ],
      "metadata": {
        "colab": {
          "base_uri": "https://localhost:8080/"
        },
        "id": "PyA-j4a81Bwq",
        "outputId": "2ada4d0f-4030-46c4-aa66-8277647fd1da"
      },
      "execution_count": null,
      "outputs": [
        {
          "output_type": "stream",
          "name": "stdout",
          "text": [
            "matches non-digits\n",
            "['Hello', '', '', 'my', '', 'phone', '', 'number', '', 'is', '', '123', '', '456', '', '7890', '', '', 'You', '', 'can', '', 'also', '', 'reach', '', 'me', '', 'at', '', 'hello_world', '', 'domain', '', 'com', '', '', 'Visit', '', 'my', '', 'website', '', '', 'http', '', '', '', 'www', '', 'example', '', 'com', '', 'or', '', 'send', '', 'me', '', 'a', '', 'message', '', '', 'Let', '', 's', '', 'meet', '', 'at', '', '5', '', '00', '', 'PM', '', 'tomorrow', '', '', 'I', '', 'love', '', 'cats', '', '', 'dogs', '', '', 'and', '', 'other', '', 'pets', '', '', '']\n"
          ]
        }
      ]
    },
    {
      "cell_type": "code",
      "source": [
        "# example of \\W\n",
        "print(\"matches non-digits\")\n",
        "print(re.findall(r\"\\W+\",text))"
      ],
      "metadata": {
        "colab": {
          "base_uri": "https://localhost:8080/"
        },
        "id": "TxcYC7xj1dbb",
        "outputId": "85ce2712-0d22-403f-b155-d1ca9b31dd3e"
      },
      "execution_count": null,
      "outputs": [
        {
          "output_type": "stream",
          "name": "stdout",
          "text": [
            "matches non-digits\n",
            "[', ', ' ', ' ', ' ', ' ', '-', '-', '.\\n', ' ', ' ', ' ', ' ', ' ', ' ', '@', '.', '.\\n', ' ', ' ', ': ', '://', '.', '.', ' ', ' ', ' ', ' ', ' ', '!\\n', \"'\", ' ', ' ', ' ', ':', ' ', ' ', '. ', ' ', ' ', ', ', ', ', ' ', ' ', '.\\n']\n"
          ]
        }
      ]
    },
    {
      "cell_type": "code",
      "source": [
        "# example of \\W\n",
        "print(\"matches non-digits\")\n",
        "print(re.findall(r\"\\W*\",text))"
      ],
      "metadata": {
        "id": "_ts0AbBe1qLz",
        "outputId": "0f47dd9d-0216-4886-c56f-10616d46b6fe",
        "colab": {
          "base_uri": "https://localhost:8080/"
        }
      },
      "execution_count": null,
      "outputs": [
        {
          "output_type": "stream",
          "name": "stdout",
          "text": [
            "matches non-digits\n",
            "['', '', '', '', '', ', ', '', '', ' ', '', '', '', '', '', ' ', '', '', '', '', '', '', ' ', '', '', ' ', '', '', '', '-', '', '', '', '-', '', '', '', '', '.\\n', '', '', '', ' ', '', '', '', ' ', '', '', '', '', ' ', '', '', '', '', '', ' ', '', '', ' ', '', '', ' ', '', '', '', '', '', '', '', '', '', '', '', '@', '', '', '', '', '', '', '.', '', '', '', '.\\n', '', '', '', '', '', ' ', '', '', ' ', '', '', '', '', '', '', '', ': ', '', '', '', '', '://', '', '', '', '.', '', '', '', '', '', '', '', '.', '', '', '', ' ', '', '', ' ', '', '', '', '', ' ', '', '', ' ', '', ' ', '', '', '', '', '', '', '', '!\\n', '', '', '', \"'\", '', ' ', '', '', '', '', ' ', '', '', ' ', '', ':', '', '', ' ', '', '', ' ', '', '', '', '', '', '', '', '', '. ', '', ' ', '', '', '', '', ' ', '', '', '', '', ', ', '', '', '', '', ', ', '', '', '', ' ', '', '', '', '', '', ' ', '', '', '', '', '.\\n', '']\n"
          ]
        }
      ]
    },
    {
      "cell_type": "code",
      "source": [],
      "metadata": {
        "id": "8Fezr8em1trH"
      },
      "execution_count": null,
      "outputs": []
    }
  ]
}